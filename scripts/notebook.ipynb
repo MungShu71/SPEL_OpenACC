{
 "cells": [
  {
   "cell_type": "markdown",
   "metadata": {},
   "source": [
    "# Demo for SPEL using LakeTemperature\n"
   ]
  },
  {
   "cell_type": "code",
   "execution_count": null,
   "metadata": {},
   "outputs": [],
   "source": [
    "%tb\n",
    "from IPython.core.interactiveshell import InteractiveShell\n",
    "InteractiveShell.ast_node_interactivity = \"all\"\n",
    "# Built-in modules\n",
    "import re # Regular expressions\n",
    "import importlib # MUST BE USED TO RELOAD MODULES\n",
    "\n",
    "# Importing modules for SPEL functions \n",
    "import utilityFunctions as uf\n",
    "import edit_files as ef \n",
    "import fortran_modules as fm \n",
    "from analyze_subroutines import Subroutine\n",
    "# mod_config : system configuration and static variables. \n",
    "# Where E3SM is stored, where unit tests are stored, etc.\n",
    "from mod_config import default_mods, unittests_dir, scripts_dir, spel_mods_dir\n",
    "from mod_config import ELM_SRC, spel_output_dir, _bc\n"
   ]
  },
  {
   "cell_type": "markdown",
   "metadata": {},
   "source": [
    "SPEL needs a \"casename\" (what your unit-test is called) and a list of subroutines to create a unit-test for \"sub_name_list\".  For this demo, the sub_name_list only has \"LakeTemperature\" in it.\n"
   ]
  },
  {
   "cell_type": "code",
   "execution_count": null,
   "metadata": {},
   "outputs": [],
   "source": [
    "# Define Unit Test parameters \n",
    "casename = \"LakeTemp\"  # Name of the test case\n",
    "case_dir = unittests_dir + casename # Directory to store the test case\n",
    "\n",
    "# List of subroutines to be analyzed\n",
    "sub_name_list = [\"LakeTemperature\"]\n",
    "\n",
    "# variables needed for Unit Test\n",
    "main_sub_dict = {}  # Dictionary to store all Subroutines in files needed for Unit Test\n",
    "subroutines = {k.lower():[] for k in sub_name_list} # Dictionary for User Specified Subroutines"
   ]
  },
  {
   "cell_type": "markdown",
   "metadata": {},
   "source": [
    "1st step for SPEL is determine which modules are needed for LakeTemperature and edit out the I/O, MPI, and other unneccessary modules. This must be somewhat tailored to ELM.\n",
    "\n",
    "Currently if I module is not present in the \"components/elm/src/\" (ELM_SRC) nor in the \"share/utils\" directories (SHR_SRC), then the module and any dependency on it is automatically removed."
   ]
  },
  {
   "cell_type": "code",
   "execution_count": null,
   "metadata": {},
   "outputs": [],
   "source": [
    " # List to hold all the modules needed for the unit test\n",
    "needed_mods = [] \n",
    "for s in sub_name_list:\n",
    "    # Get general info of the subroutine\n",
    "    subroutines[s] = Subroutine(s,calltree=['elm_drv'])\n",
    "\n",
    "    # Process by removing certain modules and syntax\n",
    "    # so that a standalone unit test can be compiled.\n",
    "    fn = subroutines[s].filepath\n",
    "    mod_dict, file_list = ef.process_for_unit_test(fname=fn,case_dir=case_dir,\n",
    "                            mods=needed_mods,required_mods=default_mods, \n",
    "                            main_sub_dict=main_sub_dict,\n",
    "                            overwrite=False,verbose=False)"
   ]
  },
  {
   "cell_type": "code",
   "execution_count": null,
   "metadata": {},
   "outputs": [],
   "source": [
    "# for mod in mod_dict.values():\n",
    "#     mod.display_info()\n",
    "\n",
    "type_dict = {}\n",
    "for modname, mod in mod_dict.items():\n",
    "    for utype, dtype in mod.defined_types.items():\n",
    "        type_dict[utype] = dtype"
   ]
  },
  {
   "cell_type": "markdown",
   "metadata": {},
   "source": [
    "SPEL can print out a module tree showing how the modules are linked for the unit-test subroutines\n",
    "- The full tree can be pretty difficult to parse, having a cutoff depth is recommended.\n",
    "- Every module uses 'shr_kind_mod' so that could be suppressed as well."
   ]
  },
  {
   "cell_type": "code",
   "execution_count": null,
   "metadata": {},
   "outputs": [],
   "source": [
    "importlib.reload(fm)\n",
    "modtree = fm.print_spel_module_dependencies(mod_dict=mod_dict,subs=subroutines)\n",
    "\n",
    "arrow = \"-->\"\n",
    "cutoff_depth = 10 # Only print modules up to this depth\n",
    "suppress_mod_list = ['shr_kind_mod']\n",
    "for m in modtree:\n",
    "    depth = m['depth']\n",
    "    modname = m['module']\n",
    "    if(modname in suppress_mod_list):\n",
    "        continue\n",
    "    if(depth == 1):\n",
    "        print(_bc.HEADER + arrow*depth + modname + _bc.ENDC)\n",
    "    elif(depth <= cutoff_depth):\n",
    "        print( arrow*depth + modname)"
   ]
  },
  {
   "cell_type": "code",
   "execution_count": null,
   "metadata": {},
   "outputs": [],
   "source": [
    "test_mod = mod_dict['laketemperaturemod']\n",
    "test_mod.display_info()\n",
    "\n",
    "test_mod = mod_dict['ch4mod']\n",
    "test_mod.display_info()"
   ]
  },
  {
   "cell_type": "code",
   "execution_count": null,
   "metadata": {},
   "outputs": [],
   "source": [
    "for f in file_list:\n",
    "    base_fn = f.split('/')[-1]\n",
    "    print(base_fn)"
   ]
  },
  {
   "cell_type": "code",
   "execution_count": null,
   "metadata": {},
   "outputs": [],
   "source": [
    "# for sub in main_sub_dict.values():\n",
    "#     print(sub.name)\n",
    "sub = main_sub_dict['laketemperature']\n",
    "sub.printSubroutineInfo()"
   ]
  },
  {
   "cell_type": "code",
   "execution_count": null,
   "metadata": {},
   "outputs": [],
   "source": [
    "sub.LocalVariables['arrays']"
   ]
  },
  {
   "cell_type": "code",
   "execution_count": null,
   "metadata": {},
   "outputs": [],
   "source": [
    "for s in sub_name_list:\n",
    "    # Parsing means getting info on the variables read and written\n",
    "    # to by the subroutine and any of its callees\n",
    "    subroutines[s].parse_subroutine(dtype_dict=type_dict,\n",
    "                                    main_sub_dict=main_sub_dict,verbose=True)"
   ]
  },
  {
   "cell_type": "code",
   "execution_count": null,
   "metadata": {},
   "outputs": [],
   "source": [
    "subroutines['LakeTemperature'].child_Subroutine.keys()\n"
   ]
  },
  {
   "cell_type": "markdown",
   "metadata": {},
   "source": []
  },
  {
   "cell_type": "markdown",
   "metadata": {},
   "source": []
  },
  {
   "cell_type": "code",
   "execution_count": null,
   "metadata": {},
   "outputs": [],
   "source": [
    "var = \"snl\"\n",
    "dummy = \"jtop( bounds%begc: bounds%endc, snl(c),nasdk+f)\"\n",
    "import re\n",
    "regex_indices = re.compile(r'(?<=\\()(.+)(?=\\))')\n",
    "ind = regex_indices.search(dummy).group(0)\n",
    "print(ind)\n",
    "regex_var = re.compile(r'({})'.format(var))\n",
    "print(regex_var.search(ind).group(0))\n",
    "print(regex_indices.sub('',dummy))"
   ]
  },
  {
   "cell_type": "code",
   "execution_count": null,
   "metadata": {},
   "outputs": [],
   "source": []
  }
 ],
 "metadata": {
  "kernelspec": {
   "display_name": "Python 3",
   "language": "python",
   "name": "python3"
  },
  "language_info": {
   "codemirror_mode": {
    "name": "ipython",
    "version": 3
   },
   "file_extension": ".py",
   "mimetype": "text/x-python",
   "name": "python",
   "nbconvert_exporter": "python",
   "pygments_lexer": "ipython3",
   "version": "3.10.12"
  }
 },
 "nbformat": 4,
 "nbformat_minor": 2
}
