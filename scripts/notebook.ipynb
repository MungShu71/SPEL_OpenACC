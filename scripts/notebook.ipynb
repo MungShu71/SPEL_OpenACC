{
 "cells": [
  {
   "cell_type": "code",
   "execution_count": 1,
   "metadata": {},
   "outputs": [
    {
     "name": "stdout",
     "output_type": "stream",
     "text": [
      "/home/qed/SPEL_OpenACC/scripts/../../E3SM/components/elm/src/data_types/ColumnDataType.F90\n"
     ]
    }
   ],
   "source": [
    "from IPython.core.interactiveshell import InteractiveShell\n",
    "InteractiveShell.ast_node_interactivity = \"all\"\n",
    "import numpy as np\n",
    "import re\n",
    "import utilityFunctions as uf\n",
    "import edit_files as ef \n",
    "import importlib\n",
    "import fortran_modules as fm \n",
    "import DerivedType\n",
    "testfile = fm.get_filename_from_module(\"ColumnDataType\")\n",
    "print(testfile)\n",
    "importlib.reload(DerivedType)\n",
    "importlib.reload(ef)\n",
    "importlib.reload(fm)\n",
    "importlib.reload(uf)\n",
    "\n",
    "mods, mod_dict = ef.get_used_mods(testfile,mods=[],mod_dict={},singlefile=True,verbose=False)"
   ]
  },
  {
   "cell_type": "code",
   "execution_count": 2,
   "metadata": {},
   "outputs": [
    {
     "data": {
      "text/plain": [
       "<module 'DerivedType' from '/home/qed/SPEL_OpenACC/scripts/DerivedType.py'>"
      ]
     },
     "execution_count": 2,
     "metadata": {},
     "output_type": "execute_result"
    },
    {
     "data": {
      "text/plain": [
       "<module 'edit_files' from '/home/qed/SPEL_OpenACC/scripts/edit_files.py'>"
      ]
     },
     "execution_count": 2,
     "metadata": {},
     "output_type": "execute_result"
    },
    {
     "data": {
      "text/plain": [
       "<module 'fortran_modules' from '/home/qed/SPEL_OpenACC/scripts/fortran_modules.py'>"
      ]
     },
     "execution_count": 2,
     "metadata": {},
     "output_type": "execute_result"
    },
    {
     "data": {
      "text/plain": [
       "<module 'utilityFunctions' from '/home/qed/SPEL_OpenACC/scripts/utilityFunctions.py'>"
      ]
     },
     "execution_count": 2,
     "metadata": {},
     "output_type": "execute_result"
    },
    {
     "name": "stdout",
     "output_type": "stream",
     "text": [
      "Breakpoint\n",
      "Breakpoint\n",
      "Breakpoint\n",
      "Breakpoint\n",
      "Breakpoint\n",
      "Breakpoint\n",
      "Breakpoint\n",
      "Breakpoint\n",
      "Breakpoint\n",
      "Breakpoint\n",
      "Breakpoint\n",
      "Breakpoint\n",
      "Breakpoint\n",
      "Breakpoint\n",
      "Breakpoint\n",
      "Breakpoint\n",
      "Breakpoint\n",
      "Breakpoint\n",
      "Breakpoint\n",
      "Breakpoint\n",
      "Breakpoint\n"
     ]
    }
   ],
   "source": [
    "importlib.reload(DerivedType)\n",
    "importlib.reload(ef)\n",
    "importlib.reload(fm)\n",
    "importlib.reload(uf)\n",
    "file = open(testfile,'r')\n",
    "lines = file.readlines()\n",
    "file.close()\n",
    "ef.modify_file(lines,fn=testfile,sub_list=[],\n",
    "                    verbose=False,overwrite=False)"
   ]
  },
  {
   "cell_type": "code",
   "execution_count": null,
   "metadata": {},
   "outputs": [],
   "source": [
    "from IPython.core.interactiveshell import InteractiveShell\n",
    "InteractiveShell.ast_node_interactivity = \"all\"\n",
    "comment_ = '!#py '\n",
    "line = \"          call restartvar(ncid=ncid, flag=flag, varname='totblgc', xtype=ncd_double,  &\"\n",
    "str_ = re.search(r'\\w',line.strip()).group()\n",
    "newline = line\n",
    "newline = newline.replace(str_,comment_+str_,1)\n",
    "newline\n"
   ]
  },
  {
   "cell_type": "code",
   "execution_count": null,
   "metadata": {},
   "outputs": [],
   "source": [
    "importlib.reload(uf)\n",
    "teststr = \"errMsg => shr_log_errMsg\\n\"\n",
    "teststr = re.sub(r'\\s*(=>)\\s*','|',teststr)\n",
    "\n",
    "subs = ['isnan']\n",
    "subs.append(teststr)\n",
    "print('|'.join(subs))"
   ]
  },
  {
   "cell_type": "code",
   "execution_count": null,
   "metadata": {},
   "outputs": [],
   "source": []
  }
 ],
 "metadata": {
  "kernelspec": {
   "display_name": "Python 3",
   "language": "python",
   "name": "python3"
  },
  "language_info": {
   "codemirror_mode": {
    "name": "ipython",
    "version": 3
   },
   "file_extension": ".py",
   "mimetype": "text/x-python",
   "name": "python",
   "nbconvert_exporter": "python",
   "pygments_lexer": "ipython3",
   "version": "3.10.12"
  }
 },
 "nbformat": 4,
 "nbformat_minor": 2
}
