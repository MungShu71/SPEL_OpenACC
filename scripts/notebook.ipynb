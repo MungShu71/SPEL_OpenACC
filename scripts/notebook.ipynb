{
 "cells": [
  {
   "cell_type": "code",
   "execution_count": null,
   "metadata": {},
   "outputs": [],
   "source": [
    "from IPython.core.interactiveshell import InteractiveShell\n",
    "InteractiveShell.ast_node_interactivity = \"all\"\n",
    "import numpy as np\n",
    "import re\n",
    "import utilityFunctions as uf\n",
    "import edit_files as ef \n",
    "import importlib\n",
    "import fortran_modules as fm \n",
    "import DerivedType\n",
    "testfile = fm.get_filename_from_module(\"decompmod\")\n",
    "importlib.reload(DerivedType)\n",
    "importlib.reload(ef)\n",
    "importlib.reload(fm)\n",
    "importlib.reload(uf)\n",
    "mods, mod_dict = ef.get_used_mods(testfile,mods=[],mod_dict={},singlefile=True,verbose=False)"
   ]
  },
  {
   "cell_type": "code",
   "execution_count": null,
   "metadata": {},
   "outputs": [],
   "source": [
    "importlib.reload(DerivedType)\n",
    "importlib.reload(ef)\n",
    "importlib.reload(fm)\n",
    "importlib.reload(uf)\n",
    "mods = [testfile]\n",
    "for mod_file in mods:\n",
    "    # Avoid preprocessing files over and over\n",
    "    file = open(mod_file,'r')\n",
    "    lines = file.readlines()\n",
    "    file.close()\n",
    "    sub_list = [] \n",
    "    ef.modify_file(lines,mod_file,sub_list,\n",
    "                verbose=True,overwrite=False)"
   ]
  },
  {
   "cell_type": "code",
   "execution_count": null,
   "metadata": {},
   "outputs": [],
   "source": [
    "from IPython.core.interactiveshell import InteractiveShell\n",
    "InteractiveShell.ast_node_interactivity = \"all\"\n",
    "comment_ = '!#py '\n",
    "line = \"          call restartvar(ncid=ncid, flag=flag, varname='totblgc', xtype=ncd_double,  &\"\n",
    "str_ = re.search(r'\\w',line.strip()).group()\n",
    "newline = line\n",
    "newline = newline.replace(str_,comment_+str_,1)\n",
    "newline\n"
   ]
  },
  {
   "cell_type": "code",
   "execution_count": null,
   "metadata": {},
   "outputs": [],
   "source": []
  },
  {
   "cell_type": "code",
   "execution_count": null,
   "metadata": {},
   "outputs": [],
   "source": []
  }
 ],
 "metadata": {
  "kernelspec": {
   "display_name": "Python 3",
   "language": "python",
   "name": "python3"
  },
  "language_info": {
   "codemirror_mode": {
    "name": "ipython",
    "version": 3
   },
   "file_extension": ".py",
   "mimetype": "text/x-python",
   "name": "python",
   "nbconvert_exporter": "python",
   "pygments_lexer": "ipython3",
   "version": "3.10.12"
  }
 },
 "nbformat": 4,
 "nbformat_minor": 2
}
