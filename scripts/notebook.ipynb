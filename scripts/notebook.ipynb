{
 "cells": [
  {
   "cell_type": "code",
   "execution_count": 1,
   "metadata": {},
   "outputs": [
    {
     "name": "stdout",
     "output_type": "stream",
     "text": [
      "/home/qed/E3SM/components/elm/src/biogeophys/UrbanParamsType.F90\n",
      "Error: Can't Identify Data Type for /home/qed/E3SM/components/elm/src/biogeophys/UrbanParamsType.F90::L63\n",
      " type (urbinp_type), public :: urbinp\n",
      "decl: type (urbinp_type), public \n"
     ]
    }
   ],
   "source": [
    "from IPython.core.interactiveshell import InteractiveShell\n",
    "InteractiveShell.ast_node_interactivity = \"all\"\n",
    "import numpy as np\n",
    "import re\n",
    "import utilityFunctions as uf\n",
    "import edit_files as ef \n",
    "import importlib\n",
    "import fortran_modules as fm \n",
    "import DerivedType\n",
    "testfile = fm.get_filename_from_module(\"UrbanParamsType\")\n",
    "print(testfile)\n",
    "importlib.reload(DerivedType)\n",
    "importlib.reload(ef)\n",
    "importlib.reload(fm)\n",
    "importlib.reload(uf)\n",
    "# line = \"integer, dimension(12) :: days_per_mon = (/ 31, 28, 31, 30, 31, 30, 31, 31, 30, 31, 30, 31 /)\"\n",
    "# uf.parse_line_for_variables(testfile,l=line,ln=10)\n",
    "mods, mod_dict = ef.get_used_mods(testfile,mods=[],mod_dict={},singlefile=False,verbose=False)"
   ]
  },
  {
   "cell_type": "code",
   "execution_count": 2,
   "metadata": {},
   "outputs": [
    {
     "name": "stdout",
     "output_type": "stream",
     "text": [
      "\u001b[1m\u001b[95mModule Name: urbanparamstype\u001b[0m\n",
      "\u001b[1m\u001b[93mModule Depedencies\u001b[0m\n",
      "\u001b[93mused shr_kind_mod\u001b[0m\n",
      "\u001b[93mused decompmod\u001b[0m\n",
      "\u001b[93mused elm_varctl\u001b[0m\n",
      "\u001b[93mused elm_varcon\u001b[0m\n",
      "\u001b[93mused landunittype\u001b[0m\n",
      "\u001b[93mused gridcelltype\u001b[0m\n",
      "\u001b[93mused topounit_varcon\u001b[0m\n",
      "\u001b[93mused elm_varpar\u001b[0m\n",
      "\u001b[93mused column_varcon\u001b[0m\n",
      "\u001b[93mused landunit_varcon\u001b[0m\n",
      "\u001b[93mused domainmod\u001b[0m\n",
      "\u001b[93mused elm_varsur\u001b[0m\n",
      "\u001b[1m\u001b[94mVariables:\u001b[0m\n",
      "urbinp_type 0-D urbinp\n",
      "character 0-D urban_hac_off \n",
      "character 0-D urban_hac_on \n",
      "character 0-D urban_wasteheat_on \n",
      "character 0-D urban_hac \n",
      "integer 0-D urban_hac_off_int \n",
      "integer 0-D urban_hac_on_int \n",
      "integer 0-D urban_wasteheat_int \n",
      "integer 0-D urban_hac_int \n",
      "logical 0-D urban_traffic      \n",
      "urbanparams_type 0-D urbanparams_vars\n",
      "\u001b[1m\u001b[94mUser Types:\u001b[0m\n",
      "Derived Type: urbinp_type\n",
      "from Mod: /home/qed/E3SM/components/elm/src/biogeophys/UrbanParamsType.F90\n",
      "Instances: ['urbinp']\n",
      "w/ components:\n",
      "Derived Type: urbanparams_type\n",
      "from Mod: /home/qed/E3SM/components/elm/src/biogeophys/UrbanParamsType.F90\n",
      "Instances: ['urbanparams_vars']\n",
      "w/ components:\n"
     ]
    }
   ],
   "source": [
    "from IPython.core.interactiveshell import InteractiveShell\n",
    "InteractiveShell.ast_node_interactivity = \"all\"\n",
    "  \n",
    "mod_dict['urbanparamstype'].display_info()"
   ]
  },
  {
   "cell_type": "code",
   "execution_count": null,
   "metadata": {},
   "outputs": [],
   "source": [
    "import re\n",
    "regex_data = re.compile(r'(\\(/)(.+?)(/\\))')\n",
    "m = regex_data.search(temp_vars)\n",
    "if(m):\n",
    "    re.sub(r'\\s*(=)\\s*'+f\"({m.group()})\",'',temp_vars)\n",
    "    temp_vars.replace(m.group(),'')"
   ]
  },
  {
   "cell_type": "code",
   "execution_count": null,
   "metadata": {},
   "outputs": [],
   "source": [
    "vdict = {}\n",
    "for modname, mod in mod_dict.items():\n",
    "    for utype, dtype in mod.defined_types.items():\n",
    "        vdict[utype] = dtype\n",
    "\n",
    "var_list = {}\n",
    "for type_name, dtype in vdict.items():\n",
    "    for v in dtype.instances:\n",
    "        var_list[v.name] = dtype \n",
    "        print(v.name,type_name)"
   ]
  },
  {
   "cell_type": "code",
   "execution_count": null,
   "metadata": {},
   "outputs": [],
   "source": [
    "global_constants = {}\n",
    "for modname, mod in mod_dict.items():\n",
    "    for v in mod.global_vars:\n",
    "        global_constants[v.name] = v"
   ]
  },
  {
   "cell_type": "code",
   "execution_count": 12,
   "metadata": {},
   "outputs": [
    {
     "data": {
      "text/plain": [
       "['124:  type(atm2lnd_type)                                  :: atm2lnd_vars']"
      ]
     },
     "execution_count": 12,
     "metadata": {},
     "output_type": "execute_result"
    }
   ],
   "source": [
    "type_name = \"atm2lnd_type\"\n",
    "\n",
    "import subprocess as sp\n",
    "from mod_config import ELM_SRC \n",
    "cmd = f'grep -rin -E \"^[[:space:]]*(type)[[:space:]]*\\({type_name}\" {ELM_SRC}/main/elm_instMod.F90'\n",
    "sp.getoutput(cmd).split('\\n')"
   ]
  },
  {
   "cell_type": "code",
   "execution_count": null,
   "metadata": {},
   "outputs": [],
   "source": [
    "\n"
   ]
  },
  {
   "cell_type": "code",
   "execution_count": null,
   "metadata": {},
   "outputs": [],
   "source": []
  }
 ],
 "metadata": {
  "kernelspec": {
   "display_name": "Python 3",
   "language": "python",
   "name": "python3"
  },
  "language_info": {
   "codemirror_mode": {
    "name": "ipython",
    "version": 3
   },
   "file_extension": ".py",
   "mimetype": "text/x-python",
   "name": "python",
   "nbconvert_exporter": "python",
   "pygments_lexer": "ipython3",
   "version": "3.10.12"
  }
 },
 "nbformat": 4,
 "nbformat_minor": 2
}
